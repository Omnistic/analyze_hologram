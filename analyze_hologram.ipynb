{
 "cells": [
  {
   "cell_type": "markdown",
   "id": "2ac210c0-b4b3-4f6e-a20e-c354f2520678",
   "metadata": {},
   "source": [
    "## Modules and initializations"
   ]
  },
  {
   "cell_type": "code",
   "execution_count": 1,
   "id": "da2f9e30-ef6f-494b-8963-47a8381752a4",
   "metadata": {
    "jupyter": {
     "source_hidden": true
    },
    "tags": []
   },
   "outputs": [],
   "source": [
    "import matplotlib.pyplot as plt\n",
    "import napari\n",
    "import numpy as np\n",
    "import os\n",
    "from math import cos, sin, sqrt\n",
    "from napari.settings import get_settings\n",
    "from scipy.optimize import minimize\n",
    "from skimage import filters\n",
    "from skimage import io\n",
    "from skimage.measure import regionprops, label\n",
    "from skimage.morphology import disk, ball, closing, erosion\n",
    "from sklearn.metrics import mean_squared_error\n",
    "\n",
    "\n",
    "# Prevents automatic start of interactive event loop\n",
    "get_settings().application.ipy_interactive = False\n",
    "\n",
    "\n",
    "# Default colormap\n",
    "cmap = 'viridis'\n",
    "\n",
    "# Return a number of colors from the palette\n",
    "def colors(number):\n",
    "    # Colorblind-friendly palette\n",
    "    COLOR_PALETTE = ['#e69f00',\n",
    "                     '#56b4e9',\n",
    "                     '#009e73',\n",
    "                     '#f0e442',\n",
    "                     '#0072b2',\n",
    "                     '#d55e00',\n",
    "                     '#cc79a7',\n",
    "                     '#FFFFFF']\n",
    "    \n",
    "    return COLOR_PALETTE[:number]"
   ]
  },
  {
   "cell_type": "markdown",
   "id": "85c3cf1f-bf7c-4f5c-9631-ca1d0fbba3d5",
   "metadata": {},
   "source": [
    "## Calculate rotation matrix"
   ]
  },
  {
   "cell_type": "code",
   "execution_count": 2,
   "id": "774461cb-58d3-424f-a9ba-fcf460f87d17",
   "metadata": {
    "jupyter": {
     "source_hidden": true
    },
    "tags": []
   },
   "outputs": [],
   "source": [
    "def create_rotation(angle):\n",
    "    return np.array([[cos(angle), -sin(angle)],\n",
    "                    [sin(angle), cos(angle)]])"
   ]
  },
  {
   "cell_type": "markdown",
   "id": "00a70307-f9f3-42a0-82e7-413a060d8b98",
   "metadata": {},
   "source": [
    "## Find angle between reference points"
   ]
  },
  {
   "cell_type": "code",
   "execution_count": 3,
   "id": "c82fb701-a8b7-4bad-8fa5-0336183ee8f2",
   "metadata": {
    "jupyter": {
     "source_hidden": true
    },
    "tags": []
   },
   "outputs": [],
   "source": [
    "def rotation(angle, coords_a, coords_b):\n",
    "    # Number of points\n",
    "    number = coords_a.shape[0]\n",
    "    \n",
    "    # Initialize an array for a rotated version of coords_b\n",
    "    coords_b_rotated = np.zeros((number, 2))\n",
    "    \n",
    "    # Rotation matrix\n",
    "    rotation_matrix = create_rotation(angle)\n",
    "    \n",
    "    # Apply rotation (there might be a better algebraic way of computing\n",
    "    # the dot-product for each vector...)\n",
    "    for ii in range(number):\n",
    "        coords_b_rotated[ii,:] = np.dot(rotation_matrix, coords_b[ii,:])\n",
    "    \n",
    "    # Calculate the mean squared error from sklearn.metrics\n",
    "    MSE = mean_squared_error(coords_a, coords_b_rotated)\n",
    "    \n",
    "    # Calculate the square root of the  MSE\n",
    "    # (smoother function, better for optimization)\n",
    "    RMSE = sqrt(MSE)\n",
    "    \n",
    "    # Return the RMSE\n",
    "    return RMSE"
   ]
  },
  {
   "cell_type": "markdown",
   "id": "f3406e0c-c793-4bdf-b716-2bc3e571ffc9",
   "metadata": {},
   "source": [
    "## Find coordinates of referance A in the space of reference B"
   ]
  },
  {
   "cell_type": "code",
   "execution_count": 4,
   "id": "539df6a6-bff8-4df4-bfe0-6bcc8ebea19d",
   "metadata": {
    "jupyter": {
     "source_hidden": true
    },
    "tags": []
   },
   "outputs": [],
   "source": [
    "def coords_of_a_in_b(ref_a, ref_b, number, prefix):\n",
    "    # Empty organized array of coordinates\n",
    "    coords_a = np.empty((number, 2))\n",
    "    coords_b = np.empty((number, 2))\n",
    "    \n",
    "    # User identification of spots in reference images\n",
    "    labels_a, user_coords_a = identify_spots(ref_a, number, prefix, size=120)\n",
    "    labels_b, user_coords_b = identify_spots(ref_b, number, prefix, size=20)\n",
    "\n",
    "    # Localization of spots in reference images\n",
    "    loc_coords_a = localize_spots(ref_a, number, close_size=10)\n",
    "    loc_coords_b = localize_spots(ref_b, number, close_size=5)\n",
    "\n",
    "    # Connect identified spots with localized ones\n",
    "    for ii in range(number):\n",
    "        coords_a[ii, :], _ = find_closest_spot(user_coords_a[ii, :], loc_coords_a)\n",
    "        coords_b[ii, :], _ = find_closest_spot(user_coords_b[ii, :], loc_coords_b)\n",
    "        \n",
    "    # Find barycentre of spots\n",
    "    center_a = coords_a.mean(axis=0)\n",
    "    center_b = coords_b.mean(axis=0)\n",
    "    \n",
    "    # Center spots\n",
    "    coords_a_centered = coords_a - center_a\n",
    "    coords_b_centered = coords_b - center_b\n",
    "    \n",
    "    # Find norm of sports\n",
    "    norm_a = np.linalg.norm(coords_a_centered)\n",
    "    norm_b = np.linalg.norm(coords_b_centered)\n",
    "    \n",
    "    # Find scaling factor\n",
    "    scaling = norm_b / norm_a\n",
    "\n",
    "    # Scale first reference\n",
    "    coords_a_scaled = coords_a_centered * scaling\n",
    "    \n",
    "    # Find rotation angle\n",
    "    res = minimize(rotation, 0, args=(coords_a_scaled, coords_b_centered), method=\"L-BFGS-B\")\n",
    "    rotation_angle = res.x[0]\n",
    "\n",
    "    # Apply rotation angle to first reference\n",
    "    rotation_matrix = np.array([[cos(-rotation_angle), -sin(-rotation_angle)],\n",
    "                                [sin(-rotation_angle), cos(-rotation_angle)]])\n",
    "    coords_a_rotated = (rotation_matrix@coords_a_scaled.T).T\n",
    "    \n",
    "    # Decenter first reference\n",
    "    coords_a_decentered = coords_a_rotated + center_b\n",
    "    \n",
    "    return coords_a_decentered, labels_a"
   ]
  },
  {
   "cell_type": "markdown",
   "id": "22196879-41e0-4890-88f0-c38ec98b87b4",
   "metadata": {
    "tags": []
   },
   "source": [
    "## Find closest spot from an array"
   ]
  },
  {
   "cell_type": "code",
   "execution_count": 5,
   "id": "c92cd086-9a43-438e-949f-c179dececafb",
   "metadata": {
    "jupyter": {
     "source_hidden": true
    },
    "tags": []
   },
   "outputs": [],
   "source": [
    "def find_closest_spot(spot, spot_array):\n",
    "    # Initialize return coordinates\n",
    "    match = np.empty((1, spot.shape[0]))\n",
    "    \n",
    "    # Initialize distance to positive infinity\n",
    "    distance = float('inf')\n",
    "    \n",
    "    # Find closest spot\n",
    "    idx = 0\n",
    "    for spot_ii in spot_array:\n",
    "        if squared_distance(spot, spot_ii) < distance:\n",
    "            match = spot_ii\n",
    "            match_idx = idx\n",
    "            distance = squared_distance(spot, spot_ii)\n",
    "        idx += 1\n",
    "    \n",
    "    # Closest spot\n",
    "    closest = np.copy(match)\n",
    "    \n",
    "    # Set matched spot in localized matrix to infinity (so it can't be found again)\n",
    "    match[0] = float('inf')\n",
    "    match[1] = float('inf')\n",
    "    \n",
    "    return closest, match_idx"
   ]
  },
  {
   "cell_type": "markdown",
   "id": "78d7dd5b-f778-43fc-a840-a29a85923770",
   "metadata": {},
   "source": [
    "## Calculate squared Euclidian norm"
   ]
  },
  {
   "cell_type": "code",
   "execution_count": 6,
   "id": "7e738e8b-ed5b-4bbf-a670-ee68983cd6bd",
   "metadata": {
    "jupyter": {
     "source_hidden": true
    },
    "tags": []
   },
   "outputs": [],
   "source": [
    "def squared_distance(spot_1, spot_2):\n",
    "    return np.sum(np.square(spot_2 - spot_1))"
   ]
  },
  {
   "cell_type": "markdown",
   "id": "cff82473-d1ec-43ce-bd96-8b8dbc070759",
   "metadata": {},
   "source": [
    "## Localize (automatically) spots in reference image"
   ]
  },
  {
   "cell_type": "code",
   "execution_count": 7,
   "id": "d2d75af1-feaa-4335-8af9-da64cd93b457",
   "metadata": {
    "jupyter": {
     "source_hidden": true
    },
    "tags": []
   },
   "outputs": [],
   "source": [
    "def localize_spots(ref, number, close_size):\n",
    "    # Initialize coordinates array\n",
    "    coords = np.empty((3, 2))\n",
    "    \n",
    "    # Apply median filter\n",
    "    ref_proc = filters.median(ref, disk(1.0))\n",
    "    \n",
    "    # Find threshold value\n",
    "    threshold_value = filters.threshold_otsu(ref)\n",
    "    \n",
    "    # Apply threshold\n",
    "    ref_proc = (ref > threshold_value).astype(int)\n",
    "    \n",
    "    # Apply closing operation\n",
    "    ref_proc = closing(ref_proc, disk(close_size))\n",
    "\n",
    "    # Apply regionprops\n",
    "    properties = regionprops(label(ref_proc), ref)\n",
    "    \n",
    "    # Counter of spots localized\n",
    "    localized = 0\n",
    "    \n",
    "    # Select valid centroid (area > 100 px)\n",
    "    for spot in properties:\n",
    "        if spot.area > 100:\n",
    "            # Save spot coordinates\n",
    "            coords[localized,:] = np.asarray(spot.weighted_centroid)\n",
    "            \n",
    "            # Increase counter\n",
    "            localized += 1\n",
    "    \n",
    "    # Check that all the spots have been localized\n",
    "    if localized != number:\n",
    "        print('ERROR: Not enough spots located in reference image!')\n",
    "    \n",
    "    return coords"
   ]
  },
  {
   "cell_type": "markdown",
   "id": "054f70f1-3983-4ba6-a74a-88c32c7c450b",
   "metadata": {
    "tags": []
   },
   "source": [
    "## Run Napari for user to identify reference spots in an image"
   ]
  },
  {
   "cell_type": "code",
   "execution_count": 8,
   "id": "ee0c8c93",
   "metadata": {
    "jupyter": {
     "source_hidden": true
    },
    "tags": []
   },
   "outputs": [],
   "source": [
    "def identify_spots(ref, number, prefix, size):\n",
    "    # Initialize spot coordinates array\n",
    "    points = 50 * np.ones((number, 2))\n",
    "    \n",
    "    # Initialize spot labels\n",
    "    labels = []\n",
    "    \n",
    "    # Loop over the number of spots\n",
    "    for ii in range(number):\n",
    "        # Initialize annotations in top-left corner\n",
    "        points[ii, 0] = ii * 2 * size + 2 * size\n",
    "        \n",
    "        # Add labels to annotations\n",
    "        labels.append(prefix + str(ii+1))\n",
    "    \n",
    "    # Create text for annotations\n",
    "    text = {'string': labels,\n",
    "            'size': 6,\n",
    "            'color': 'white',\n",
    "            'translation': 0.75 * np.array([-size, size])}    \n",
    "\n",
    "    # Open Napari viewer\n",
    "    viewer = napari.Viewer(title='Identify spots in reference image')\n",
    "    \n",
    "    # Add reference image in a new layer\n",
    "    ref_layer = viewer.add_image(ref, name='Reference image')\n",
    "    \n",
    "    # Update colormap\n",
    "    ref_layer.colormap = cmap\n",
    "    \n",
    "    # Add annotations to points layer    \n",
    "    pt_layer = viewer.add_points(points,\n",
    "                                 properties={'label': labels},\n",
    "                                 text=text,\n",
    "                                 size=size,\n",
    "                                 edge_width=.05,\n",
    "                                 edge_color=colors(number),\n",
    "                                 face_color='transparent',\n",
    "                                 name='ROIs')\n",
    "\n",
    "    # Change to select mode\n",
    "    pt_layer.mode = 'select'\n",
    "    \n",
    "    # Close viewer and retrieve spot coordinates\n",
    "    @viewer.bind_key('Enter')\n",
    "    def complete_spot_selection(viewer):\n",
    "        viewer.close()\n",
    "        \n",
    "    # Run Napari\n",
    "    napari.run()\n",
    "    \n",
    "    # Return sport labels and coordinates\n",
    "    return pt_layer.properties['label'], pt_layer.data"
   ]
  },
  {
   "cell_type": "markdown",
   "id": "84df4b1c-a7d0-4535-85f7-36be32cc5042",
   "metadata": {},
   "source": [
    "## Crop image or stack in X-Y around the center"
   ]
  },
  {
   "cell_type": "code",
   "execution_count": 9,
   "id": "24eeaf36-5c5d-4e3d-b6cf-b799e06a6416",
   "metadata": {
    "jupyter": {
     "source_hidden": true
    },
    "tags": []
   },
   "outputs": [],
   "source": [
    "def crop_around_center_2D(img, half_length):\n",
    "    size = img.shape\n",
    "    \n",
    "    if len(size) == 2:\n",
    "        crop = np.copy(img[int(size[0]/2)-half_length:int(size[0]/2)+half_length,\n",
    "                           int(size[1]/2)-half_length:int(size[1]/2)+half_length])\n",
    "    if len(size) == 3:\n",
    "        crop = np.copy(img[:, int(size[1]/2)-half_length:int(size[1]/2)+half_length,\n",
    "                           int(size[2]/2)-half_length:int(size[2]/2)+half_length])\n",
    "        \n",
    "    return crop"
   ]
  },
  {
   "cell_type": "markdown",
   "id": "e2d61161-8792-48d3-b655-2f5de0f8c264",
   "metadata": {},
   "source": [
    "## Display transform result"
   ]
  },
  {
   "cell_type": "code",
   "execution_count": 10,
   "id": "999376d7-0923-4da1-861c-1f1326584f2b",
   "metadata": {
    "jupyter": {
     "source_hidden": true
    },
    "tags": []
   },
   "outputs": [],
   "source": [
    "def display_transform_result(ref, a_in_b, labels):\n",
    "    # New Napari Viewer\n",
    "    viewer = napari.Viewer(title='Validation')\n",
    "    \n",
    "    # Add reference image\n",
    "    ref_layer = viewer.add_image(ref, name='Reference image')\n",
    "    \n",
    "    # Change colormap\n",
    "    ref_layer.colormap = cmap\n",
    "    \n",
    "    # Number of annotations\n",
    "    number = a_in_b.shape[0]\n",
    "    \n",
    "    # Text annotations\n",
    "    text = {'string': labels.tolist(),\n",
    "            'size': 6,\n",
    "            'color': 'white',\n",
    "            'translation': 0.75 * np.array([-20, 20])}\n",
    "    \n",
    "    # Add annotations\n",
    "    annotation_layer = viewer.add_points(a_in_b,\n",
    "                                         properties={'label': labels},\n",
    "                                         text=text,\n",
    "                                         size=20,\n",
    "                                         edge_width=.05,\n",
    "                                         edge_color=colors(number),\n",
    "                                         face_color='transparent',\n",
    "                                         name='ROIs')\n",
    "    \n",
    "    # Run Napari\n",
    "    napari.run()"
   ]
  },
  {
   "cell_type": "markdown",
   "id": "bb7a511b-6265-481e-be1e-df8e4f8602eb",
   "metadata": {},
   "source": [
    "## Display MIP along Z axis with target annotations"
   ]
  },
  {
   "cell_type": "code",
   "execution_count": 11,
   "id": "666c1ba8-ede7-4490-a065-e39050774185",
   "metadata": {
    "jupyter": {
     "source_hidden": true
    },
    "tags": []
   },
   "outputs": [],
   "source": [
    "def display_mip(stack, a_in_b, labels):\n",
    "    # New Napari Viewer\n",
    "    viewer = napari.Viewer(title='MIP with target annotations')\n",
    "    \n",
    "    # Add MIP along Z axis\n",
    "    mip_layer = viewer.add_image(np.amax(stack, axis=0), name='MIP along Z axis')\n",
    "    \n",
    "    # Change colormap\n",
    "    mip_layer.colormap = cmap\n",
    "    \n",
    "    # Number of annotations\n",
    "    number = a_in_b.shape[0]\n",
    "    \n",
    "    # Text annotations\n",
    "    text = {'string': labels.tolist(),\n",
    "            'size': 6,\n",
    "            'color': 'white',\n",
    "            'translation': 0.75 * np.array([-20, 20])}\n",
    "    \n",
    "    # Add annotations\n",
    "    annotation_layer = viewer.add_points(a_in_b,\n",
    "                                         properties={'label': labels},\n",
    "                                         text=text,\n",
    "                                         size=20,\n",
    "                                         edge_width=.05,\n",
    "                                         edge_color=colors(number),\n",
    "                                         face_color='transparent',\n",
    "                                         name='ROIs')\n",
    "    \n",
    "    # Run Napari\n",
    "    napari.run()"
   ]
  },
  {
   "cell_type": "markdown",
   "id": "c3da7b2d-2d3a-4fba-96b8-e96c024e5f46",
   "metadata": {},
   "source": [
    "## Measure errors"
   ]
  },
  {
   "cell_type": "code",
   "execution_count": 17,
   "id": "2b7be4d1-e0c1-4277-b801-e9cfaae95582",
   "metadata": {
    "tags": []
   },
   "outputs": [],
   "source": [
    "def distance_to_target(stack, points, text):\n",
    "    # Number of annotations\n",
    "    number = points.shape[0]\n",
    "    \n",
    "    # Make a copy of the points\n",
    "    points_copy = np.copy(points)\n",
    "    \n",
    "    # Empty array for largest identified spots\n",
    "    identified_spots = np.zeros((number, 3))\n",
    "    \n",
    "    # Threshold and erode\n",
    "    threshold_value = filters.threshold_otsu(stack)\n",
    "    stack_proc = (stack > threshold_value).astype(int)\n",
    "    stack_proc = erosion(stack_proc, ball(1.0))\n",
    "    \n",
    "    # Apply regionprops\n",
    "    labels = label(stack_proc)\n",
    "\n",
    "    # Counter of identified spots\n",
    "    ii = 0\n",
    "    \n",
    "    # Loop over the regionprops in order of largest area\n",
    "    for region in sorted(\n",
    "            regionprops(labels, stack),\n",
    "            key=lambda r: r.area,\n",
    "            reverse=True,\n",
    "    ):\n",
    "        # Pick <number> spots of largest area\n",
    "        if ii < number:\n",
    "            identified_spots[ii, :] = region.centroid_weighted\n",
    "            ii += 1\n",
    "        else:\n",
    "            break\n",
    "    \n",
    "    # Initialize error vectors\n",
    "    euclidian_error = np.zeros((number,))\n",
    "    x_error = np.zeros((number,))\n",
    "    y_error = np.zeros((number,))\n",
    "    z_error = np.zeros((number,))\n",
    "    \n",
    "    # Loop over the spots\n",
    "    for spot in identified_spots:\n",
    "        # Find closest match amongst targets\n",
    "        closest_spot, idx = find_closest_spot(spot, points_copy)\n",
    "        \n",
    "        # Report errors\n",
    "        (z_error[idx], x_error[idx], y_error[idx]) = np.absolute(spot-closest_spot)\n",
    "        euclidian_error[idx] = squared_distance(spot, closest_spot)**0.5\n",
    "    \n",
    "    # Physical parameters\n",
    "    sensor_pitch = 3.45 # [um]\n",
    "    magni = 10.0\n",
    "    pixel_size = sensor_pitch / magni\n",
    "    \n",
    "    # Plot errors\n",
    "    fig = plt.figure()\n",
    "    gs = fig.add_gridspec(1, 4, hspace=0, wspace=0)\n",
    "    axs = gs.subplots(sharey=True)\n",
    "    for ax in axs.flat:\n",
    "        ax.grid()\n",
    "    axs[0].set(ylabel='Abs dist to target [um]')\n",
    "    axs[0].bar(text, euclidian_error * pixel_size, color=colors(number))\n",
    "    axs[0].title.set_text('Euclidian distance')\n",
    "    axs[1].bar(text, x_error * pixel_size, color=colors(number))\n",
    "    axs[1].title.set_text('X distance')\n",
    "    axs[2].bar(text, y_error * pixel_size, color=colors(number))\n",
    "    axs[2].title.set_text('Y distance')\n",
    "    axs[3].bar(text, z_error * pixel_size, color=colors(number))\n",
    "    axs[3].title.set_text('Z distance')\n",
    "    \n",
    "    fig = plt.figure()\n",
    "    gs = fig.add_gridspec(1, 4, hspace=0, wspace=0)\n",
    "    axs = gs.subplots(sharey=True)\n",
    "    for ax in axs.flat:\n",
    "        ax.grid()\n",
    "    axs[0].set(ylabel='Abs dist to target [px]')\n",
    "    axs[0].bar(text, euclidian_error, color=colors(number))\n",
    "    axs[0].title.set_text('Euclidian distance')\n",
    "    axs[1].bar(text, x_error, color=colors(number))\n",
    "    axs[1].title.set_text('X distance')\n",
    "    axs[2].bar(text, y_error, color=colors(number))\n",
    "    axs[2].title.set_text('Y distance')\n",
    "    axs[3].bar(text, z_error, color=colors(number))\n",
    "    axs[3].title.set_text('Z distance')"
   ]
  },
  {
   "cell_type": "markdown",
   "id": "ba3b3761-40c5-4962-b3e2-e7dc4b868497",
   "metadata": {},
   "source": [
    "## Main"
   ]
  },
  {
   "cell_type": "code",
   "execution_count": 13,
   "id": "2e127880-3da8-48cd-ae5d-76e8cfa4b825",
   "metadata": {
    "jupyter": {
     "source_hidden": true
    },
    "tags": []
   },
   "outputs": [],
   "source": [
    "def main(show_validation=False, show_mip=False):\n",
    "    # Folder\n",
    "    folder = r'E:\\PythonScripts\\3i_Z_Stack'\n",
    "    \n",
    "    # Reference images\n",
    "    ref_a = np.asarray(io.imread(os.path.join(folder, 'up_ref.tif')))\n",
    "    ref_b = np.asarray(io.imread(os.path.join(folder, 'sub_ref.tif')))\n",
    "    \n",
    "    # Crop reference b\n",
    "    crop_half_length = 100\n",
    "    ref_b = crop_around_center_2D(ref_b, crop_half_length)\n",
    "    \n",
    "    # Number of spots\n",
    "    number = 3\n",
    "    \n",
    "    # Label prefix\n",
    "    prefix = 'S'\n",
    "    \n",
    "    # Find transform\n",
    "    a_in_b, labels = coords_of_a_in_b(ref_a, ref_b, number, prefix)\n",
    "    \n",
    "    # Display transform result\n",
    "    if show_validation:\n",
    "        display_transform_result(ref_b, a_in_b, labels)\n",
    "\n",
    "    # Stack\n",
    "    stack = io.imread(os.path.join(folder, 'stack.tif'))\n",
    "\n",
    "    # Crop stack\n",
    "    crop = crop_around_center_2D(stack, crop_half_length)\n",
    "\n",
    "    # Apply median filter to crop\n",
    "    crop = filters.median(crop, ball(1))\n",
    "    \n",
    "    # Display MIP\n",
    "    if show_mip:\n",
    "        display_mip(crop, a_in_b, labels)\n",
    "    \n",
    "    # Open Napari viewer\n",
    "    viewer = napari.Viewer()\n",
    "    \n",
    "    # Add stack in new layer\n",
    "    stack_layer = viewer.add_image(crop, name='Stack')\n",
    "    \n",
    "    # Update colormap\n",
    "    stack_layer.colormap = 'viridis'\n",
    "    \n",
    "    # Z coordinates\n",
    "    z_column = np.empty((3, 1))\n",
    "    z_column[0] = 50\n",
    "    z_column[1] = 20\n",
    "    z_column[2] = 80\n",
    "    \n",
    "    # Coordinates of annotations in 3D\n",
    "    points = np.concatenate((z_column, a_in_b), axis=1)\n",
    "    \n",
    "    # Localization of spots in stack\n",
    "    distance_to_target(crop, points, labels.tolist())\n",
    "\n",
    "    # Add annotations in new layer\n",
    "    viewer.dims.ndisplay = 3\n",
    "    text = {'string': labels.tolist(),\n",
    "            'size': 16,\n",
    "            'color': 'white',\n",
    "            'anchor': 'upper_right',\n",
    "            'translation': np.array([0, 10, 10])}\n",
    "    annotation_layer = viewer.add_points(points,\n",
    "                                         properties={'label': labels},\n",
    "                                         face_color=colors(number),\n",
    "                                         size=10,\n",
    "                                         shading='spherical',\n",
    "                                         edge_width=0,\n",
    "                                         opacity=0.6)\n",
    "    text_layer = viewer.add_points(points,\n",
    "                                   name='Text',\n",
    "                                   text=text,\n",
    "                                   face_color='transparent',\n",
    "                                   edge_width=0)\n",
    "    \n",
    "    # Run Napari\n",
    "    napari.run()"
   ]
  },
  {
   "cell_type": "code",
   "execution_count": 18,
   "id": "abcac971-209f-46fa-b76e-3b8763a55cb8",
   "metadata": {},
   "outputs": [
    {
     "data": {
      "image/png": "[encoded data removed]",
      "text/plain": [
       "<Figure size 640x480 with 4 Axes>"
      ]
     },
     "metadata": {},
     "output_type": "display_data"
    },
    {
     "data": {
      "image/png": "[encoded data removed]",
      "text/plain": [
       "<Figure size 640x480 with 4 Axes>"
      ]
     },
     "metadata": {},
     "output_type": "display_data"
    }
   ],
   "source": [
    "if __name__ == '__main__':\n",
    "    main(show_validation=False, show_mip=False)"
   ]
  }
 ],
 "metadata": {
  "kernelspec": {
   "display_name": "Python 3 (ipykernel)",
   "language": "python",
   "name": "python3"
  },
  "language_info": {
   "codemirror_mode": {
    "name": "ipython",
    "version": 3
   },
   "file_extension": ".py",
   "mimetype": "text/x-python",
   "name": "python",
   "nbconvert_exporter": "python",
   "pygments_lexer": "ipython3",
   "version": "3.8.16"
  }
 },
 "nbformat": 4,
 "nbformat_minor": 5
}
